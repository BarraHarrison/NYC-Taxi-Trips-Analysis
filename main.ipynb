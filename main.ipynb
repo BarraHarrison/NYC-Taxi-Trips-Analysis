{
 "cells": [
  {
   "cell_type": "code",
   "execution_count": 7,
   "id": "1885b2f0-389e-4c66-af15-4009d9294996",
   "metadata": {},
   "outputs": [],
   "source": [
    "import pandas as pd\n",
    "import os\n",
    "\n",
    "data_directory = \"yellow_taxi_datasets\"\n",
    "csv_files = [f for f in os.listdir(data_directory) if f.endswith(\".csv\")]\n",
    "\n",
    "df_list = [pd.read_csv(os.path.join(data_directory, f)) for f in csv_files]\n",
    "df = pd.concat(df_list, ignore_index=True)"
   ]
  },
  {
   "cell_type": "markdown",
   "id": "e51b3bdb-e0a4-4938-908c-904cda4ef1aa",
   "metadata": {},
   "source": [
    "# Feature Engineering"
   ]
  },
  {
   "cell_type": "code",
   "execution_count": null,
   "id": "ba282e87-46a9-4071-803a-46520ed12250",
   "metadata": {},
   "outputs": [],
   "source": [
    "df['tpep_pickup_datetime'] = pd.to_datetime(df['tpep_pickup_datetime'])\n",
    "df['tpep_dropoff_datetime'] = pd.to_datetime(df['tpep_dropoff_datetime'])"
   ]
  },
  {
   "cell_type": "code",
   "execution_count": null,
   "id": "6d9d69ce-2a78-4744-869c-7313c83ce70d",
   "metadata": {},
   "outputs": [],
   "source": [
    "df['trip_duration'] = (df['tpep_dropoff_datetime'] - df['tpep_pickup_datetime']).dt.total_seconds() / 60"
   ]
  },
  {
   "cell_type": "code",
   "execution_count": null,
   "id": "e7c2df1f-f6bb-42b5-bed0-a1c5f91df976",
   "metadata": {},
   "outputs": [],
   "source": [
    "df = df[(df['trip_duration'] > 0) & (df['trip_duration'] < 180)]\n",
    "df = df[(df['trip_distance'] > 0) & (df['trip_distance'] < 100)]"
   ]
  },
  {
   "cell_type": "code",
   "execution_count": null,
   "id": "7d382708-db43-4a1a-96d5-d17759a8282b",
   "metadata": {},
   "outputs": [],
   "source": [
    "df['hour'] = df['tpep_pickup_datetime'].dt.hour\n",
    "df['day'] = df['tpep_pickup_datetime'].dt.day\n",
    "df['weekday'] = df['tpep_pickup_datetime'].dt.dayofweek\n",
    "df['month'] = df['tpep_pickup_datetime'].dt.month\n",
    "df['date'] = df['tpep_pickup_datetime'].dt.date"
   ]
  },
  {
   "cell_type": "code",
   "execution_count": null,
   "id": "55b05bf9-94b2-4000-a772-37f49aa6ea93",
   "metadata": {},
   "outputs": [],
   "source": [
    "df.rename(columns={\n",
    "    'pickup_latitude': 'pickup_lat',\n",
    "    'pickup_longitude': 'pickup_lon',\n",
    "    'dropoff_latitude': 'dropoff_lat',\n",
    "    'dropoff_longitude': 'dropoff_lon'\n",
    "}, inplace=True)"
   ]
  },
  {
   "cell_type": "code",
   "execution_count": null,
   "id": "9e02bd6a-7bde-413c-8397-77cdb16f09cd",
   "metadata": {},
   "outputs": [],
   "source": [
    "df.drop(columns=['RatecodeID'], inplace=True)"
   ]
  },
  {
   "cell_type": "code",
   "execution_count": null,
   "id": "442ac9b4-48a5-4f96-af20-d4dac58d2ebf",
   "metadata": {},
   "outputs": [],
   "source": []
  }
 ],
 "metadata": {
  "kernelspec": {
   "display_name": "Python 3 (ipykernel)",
   "language": "python",
   "name": "python3"
  },
  "language_info": {
   "codemirror_mode": {
    "name": "ipython",
    "version": 3
   },
   "file_extension": ".py",
   "mimetype": "text/x-python",
   "name": "python",
   "nbconvert_exporter": "python",
   "pygments_lexer": "ipython3",
   "version": "3.9.6"
  }
 },
 "nbformat": 4,
 "nbformat_minor": 5
}
