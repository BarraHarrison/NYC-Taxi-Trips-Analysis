{
 "cells": [
  {
   "cell_type": "code",
   "execution_count": null,
   "id": "1885b2f0-389e-4c66-af15-4009d9294996",
   "metadata": {},
   "outputs": [],
   "source": [
    "import pandas as pd\n",
    "import os\n",
    "\n",
    "data_directory = \"yellow_taxi_datasets\"\n",
    "csv_files = [f for f in os.listdir(data_directory) if f.endswith(\".csv\")]\n",
    "\n",
    "df_list = [pd.read_csv(os.path.join(data_directory, f)) for f in csv_files]\n",
    "df = pd.concat(df_list, ignore_index=True)"
   ]
  },
  {
   "cell_type": "markdown",
   "id": "e51b3bdb-e0a4-4938-908c-904cda4ef1aa",
   "metadata": {},
   "source": [
    "# Feature Engineering"
   ]
  },
  {
   "cell_type": "code",
   "execution_count": null,
   "id": "ba282e87-46a9-4071-803a-46520ed12250",
   "metadata": {},
   "outputs": [],
   "source": [
    "df['tpep_pickup_datetime'] = pd.to_datetime(df['tpep_pickup_datetime'])\n",
    "df['tpep_dropoff_datetime'] = pd.to_datetime(df['tpep_dropoff_datetime'])"
   ]
  },
  {
   "cell_type": "code",
   "execution_count": null,
   "id": "6d9d69ce-2a78-4744-869c-7313c83ce70d",
   "metadata": {},
   "outputs": [],
   "source": [
    "df['trip_duration'] = (df['tpep_dropoff_datetime'] - df['tpep_pickup_datetime']).dt.total_seconds() / 60"
   ]
  },
  {
   "cell_type": "code",
   "execution_count": null,
   "id": "e7c2df1f-f6bb-42b5-bed0-a1c5f91df976",
   "metadata": {},
   "outputs": [],
   "source": [
    "df = df[(df['trip_duration'] > 0) & (df['trip_duration'] < 180)]\n",
    "df = df[(df['trip_distance'] > 0) & (df['trip_distance'] < 100)]"
   ]
  },
  {
   "cell_type": "code",
   "execution_count": null,
   "id": "7d382708-db43-4a1a-96d5-d17759a8282b",
   "metadata": {},
   "outputs": [],
   "source": [
    "df['hour'] = df['tpep_pickup_datetime'].dt.hour\n",
    "df['day'] = df['tpep_pickup_datetime'].dt.day\n",
    "df['weekday'] = df['tpep_pickup_datetime'].dt.dayofweek\n",
    "df['month'] = df['tpep_pickup_datetime'].dt.month\n",
    "df['date'] = df['tpep_pickup_datetime'].dt.date"
   ]
  },
  {
   "cell_type": "code",
   "execution_count": null,
   "id": "55b05bf9-94b2-4000-a772-37f49aa6ea93",
   "metadata": {},
   "outputs": [],
   "source": [
    "df.rename(columns={\n",
    "    'pickup_latitude': 'pickup_lat',\n",
    "    'pickup_longitude': 'pickup_lon',\n",
    "    'dropoff_latitude': 'dropoff_lat',\n",
    "    'dropoff_longitude': 'dropoff_lon'\n",
    "}, inplace=True)"
   ]
  },
  {
   "cell_type": "code",
   "execution_count": null,
   "id": "9e02bd6a-7bde-413c-8397-77cdb16f09cd",
   "metadata": {},
   "outputs": [],
   "source": [
    "df.drop(columns=['RatecodeID'], inplace=True)"
   ]
  },
  {
   "cell_type": "markdown",
   "id": "acca3e41-11c7-4276-9462-aea62f275157",
   "metadata": {},
   "source": [
    "# Data Visualizations"
   ]
  },
  {
   "cell_type": "markdown",
   "id": "4b99bb7e-a14f-45b2-a6d4-0253268557a3",
   "metadata": {},
   "source": [
    "## Trip Duration vs. Trip Distance"
   ]
  },
  {
   "cell_type": "code",
   "execution_count": null,
   "id": "0b9978e5-ff83-4023-91c5-50ed7e7b3069",
   "metadata": {},
   "outputs": [],
   "source": [
    "import matplotlib.pyplot as plt\n",
    "import seaborn as sns\n",
    "import numpy as np\n",
    "\n",
    "available_months = sorted(sample_df['month'].unique())\n",
    "titles = {1: \"January\", 2: \"February\", 3: \"March\"}\n",
    "\n",
    "fig, axes = plt.subplots(1, len(available_months), figsize=(6 * len(available_months), 6))\n",
    "\n",
    "if len(available_months) == 1:\n",
    "    axes = [axes]\n",
    "\n",
    "for ax, month in zip(axes, available_months):\n",
    "    month_df = sample_df[sample_df['month'] == month]\n",
    "    sns.kdeplot(\n",
    "        data=month_df,\n",
    "        x=\"log_distance\", y=\"log_duration\",\n",
    "        cmap=\"viridis\", fill=True, thresh=0.01, ax=ax\n",
    "    )\n",
    "    ax.set_title(f\"{titles.get(month, f'Month {month}')} ({len(month_df):,} trips)\")\n",
    "    ax.set_xlabel(\"Log(Trip Distance + 1)\")\n",
    "    ax.set_ylabel(\"Log(Trip Duration + 1)\")\n",
    "\n",
    "plt.suptitle(\"Trip Duration vs. Distance by Month (Log Scaled KDE)\", fontsize=16)\n",
    "plt.tight_layout()\n",
    "plt.subplots_adjust(top=0.88)\n",
    "plt.show()"
   ]
  },
  {
   "cell_type": "markdown",
   "id": "a7a4615a-b7d5-416d-a190-7de02e0e8ea8",
   "metadata": {},
   "source": [
    "## Trips by Hour of the Day"
   ]
  },
  {
   "cell_type": "code",
   "execution_count": null,
   "id": "d9b26857-82e0-4682-9bcf-221a9a57e93a",
   "metadata": {},
   "outputs": [],
   "source": [
    "import numpy as np\n",
    "import matplotlib.pyplot as plt\n",
    "import seaborn as sns\n",
    "\n",
    "hour_counts = df['hour'].value_counts().sort_index()\n",
    "colors = sns.color_palette(\"viridis\", len(hour_counts))\n",
    "\n",
    "plt.figure(figsize=(10, 5))\n",
    "bars = plt.bar(hour_counts.index, hour_counts.values, color=colors)\n",
    "plt.title('Number of Trips by Hour of Day')\n",
    "plt.xlabel('Hour (0 = Midnight)')\n",
    "plt.ylabel('Number of Trips')\n",
    "plt.xticks(hour_counts.index)\n",
    "plt.tight_layout()\n",
    "plt.show()"
   ]
  },
  {
   "cell_type": "markdown",
   "id": "a4699833-2098-41ce-9917-fe193a5a26c5",
   "metadata": {},
   "source": [
    "## Trips by Day of the Week"
   ]
  },
  {
   "cell_type": "code",
   "execution_count": null,
   "id": "5b25997b-0a50-4142-9304-e1e417102e96",
   "metadata": {},
   "outputs": [],
   "source": [
    "import matplotlib.pyplot as plt\n",
    "import seaborn as sns\n",
    "\n",
    "df['day_name'] = df['tpep_pickup_datetime'].dt.day_name()\n",
    "day_order = ['Monday', 'Tuesday', 'Wednesday', 'Thursday', 'Friday', 'Saturday', 'Sunday']\n",
    "\n",
    "plt.figure(figsize=(10, 5))\n",
    "sns.countplot(data=df, x='day_name', order=day_order, hue='day_name', palette='magma', legend=False)\n",
    "plt.title('📅 Number of Trips by Day of the Week')\n",
    "plt.xlabel('Day of Week')\n",
    "plt.ylabel('Number of Trips')\n",
    "plt.tight_layout()\n",
    "plt.show()"
   ]
  },
  {
   "cell_type": "markdown",
   "id": "3f12aceb-2de8-4394-94fb-fb455d664db9",
   "metadata": {},
   "source": [
    "## Hour x Weekday Heatmap"
   ]
  },
  {
   "cell_type": "code",
   "execution_count": null,
   "id": "f002cba0-7fe2-4e8c-9510-a996c2e6e9fa",
   "metadata": {},
   "outputs": [],
   "source": [
    "import seaborn as sns\n",
    "import matplotlib.pyplot as plt\n",
    "\n",
    "day_labels = ['Mon', 'Tue', 'Wed', 'Thu', 'Fri', 'Sat', 'Sun']\n",
    "heatmap_data.index = [day_labels[d] for d in heatmap_data.index]\n",
    "\n",
    "plt.figure(figsize=(12, 6))\n",
    "sns.heatmap(heatmap_data, cmap=\"YlGnBu\", linewidths=.5)\n",
    "plt.title(\"🔥 Heatmap of Taxi Trips by Hour and Day of Week\")\n",
    "plt.xlabel(\"Hour of Day\")\n",
    "plt.ylabel(\"Day of Week\")\n",
    "plt.tight_layout()\n",
    "plt.show()"
   ]
  },
  {
   "cell_type": "code",
   "execution_count": null,
   "id": "5918cbc8-6141-4be8-868c-0fed60f073b2",
   "metadata": {},
   "outputs": [],
   "source": []
  }
 ],
 "metadata": {
  "kernelspec": {
   "display_name": "Python 3 (ipykernel)",
   "language": "python",
   "name": "python3"
  },
  "language_info": {
   "codemirror_mode": {
    "name": "ipython",
    "version": 3
   },
   "file_extension": ".py",
   "mimetype": "text/x-python",
   "name": "python",
   "nbconvert_exporter": "python",
   "pygments_lexer": "ipython3",
   "version": "3.9.6"
  }
 },
 "nbformat": 4,
 "nbformat_minor": 5
}
